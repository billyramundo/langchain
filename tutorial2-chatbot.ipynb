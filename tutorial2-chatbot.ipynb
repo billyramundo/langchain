{
 "cells": [
  {
   "cell_type": "code",
   "execution_count": 1,
   "id": "65b2e2a7",
   "metadata": {},
   "outputs": [
    {
     "name": "stdout",
     "output_type": "stream",
     "text": [
      "Note: you may need to restart the kernel to use updated packages.\n"
     ]
    }
   ],
   "source": [
    "pip install -qU langchain-openai"
   ]
  },
  {
   "cell_type": "code",
   "execution_count": 2,
   "id": "ffcf308c",
   "metadata": {},
   "outputs": [
    {
     "name": "stdout",
     "output_type": "stream",
     "text": [
      "········\n"
     ]
    }
   ],
   "source": [
    "import getpass\n",
    "import os\n",
    "\n",
    "os.environ[\"OPENAI_API_KEY\"] = getpass.getpass()\n",
    "\n",
    "from langchain_openai import ChatOpenAI\n",
    "\n",
    "model = ChatOpenAI(model=\"gpt-3.5-turbo-0125\")"
   ]
  },
  {
   "cell_type": "code",
   "execution_count": 3,
   "id": "50f29065",
   "metadata": {},
   "outputs": [
    {
     "name": "stdout",
     "output_type": "stream",
     "text": [
      "········\n"
     ]
    }
   ],
   "source": [
    "os.environ[\"LANGCHAIN_TRACING_V2\"] = \"true\"\n",
    "os.environ[\"LANGCHAIN_API_KEY\"] = getpass.getpass()"
   ]
  },
  {
   "cell_type": "code",
   "execution_count": 6,
   "id": "ced456b8",
   "metadata": {},
   "outputs": [
    {
     "data": {
      "text/plain": [
       "AIMessage(content='Hello Bob! How can I assist you today?', response_metadata={'token_usage': {'completion_tokens': 10, 'prompt_tokens': 12, 'total_tokens': 22}, 'model_name': 'gpt-3.5-turbo-0125', 'system_fingerprint': None, 'finish_reason': 'stop', 'logprobs': None}, id='run-a578d200-795e-4d73-a004-0fb5531585cc-0')"
      ]
     },
     "execution_count": 6,
     "metadata": {},
     "output_type": "execute_result"
    }
   ],
   "source": [
    "from langchain_core.messages import HumanMessage\n",
    "\n",
    "# Calling the model in this way will not allow it to keep any context from previous messages... would need to pass\n",
    "# in each prior response from both user and AI in order to get this \n",
    "# Like this:\n",
    "# model.invoke(\n",
    "#     [\n",
    "#         HumanMessage(content=\"Hi! I'm Bob\"),\n",
    "#         AIMessage(content=\"Hello Bob! How can I assist you today?\"),\n",
    "#         HumanMessage(content=\"What's my name?\"),\n",
    "#     ]\n",
    "# )\n",
    "\n",
    "# But this would not make sense for a longer conversation obviously\n",
    "\n",
    "model.invoke([HumanMessage(content=\"Hi! I'm Bob\")])"
   ]
  },
  {
   "cell_type": "code",
   "execution_count": 10,
   "id": "3d6db6a9",
   "metadata": {
    "collapsed": true
   },
   "outputs": [
    {
     "name": "stdout",
     "output_type": "stream",
     "text": [
      "Collecting langchain_community\n",
      "  Downloading langchain_community-0.2.0-py3-none-any.whl (2.1 MB)\n",
      "\u001b[K     |████████████████████████████████| 2.1 MB 4.3 MB/s eta 0:00:01\n",
      "\u001b[?25hRequirement already satisfied: langsmith<0.2.0,>=0.1.0 in /Users/billyram/opt/anaconda3/lib/python3.8/site-packages (from langchain_community) (0.1.60)\n",
      "Requirement already satisfied: tenacity<9.0.0,>=8.1.0 in /Users/billyram/opt/anaconda3/lib/python3.8/site-packages (from langchain_community) (8.3.0)\n",
      "Requirement already satisfied: langchain-core<0.3.0,>=0.2.0 in /Users/billyram/opt/anaconda3/lib/python3.8/site-packages (from langchain_community) (0.2.0)\n",
      "Requirement already satisfied: dataclasses-json<0.7,>=0.5.7 in /Users/billyram/opt/anaconda3/lib/python3.8/site-packages (from langchain_community) (0.6.6)\n",
      "Requirement already satisfied: aiohttp<4.0.0,>=3.8.3 in /Users/billyram/opt/anaconda3/lib/python3.8/site-packages (from langchain_community) (3.8.4)\n",
      "Requirement already satisfied: SQLAlchemy<3,>=1.4 in /Users/billyram/opt/anaconda3/lib/python3.8/site-packages (from langchain_community) (1.4.7)\n",
      "Requirement already satisfied: PyYAML>=5.3 in /Users/billyram/opt/anaconda3/lib/python3.8/site-packages (from langchain_community) (5.4.1)\n",
      "Requirement already satisfied: langchain<0.3.0,>=0.2.0 in /Users/billyram/opt/anaconda3/lib/python3.8/site-packages (from langchain_community) (0.2.0)\n",
      "Requirement already satisfied: numpy<2,>=1 in /Users/billyram/opt/anaconda3/lib/python3.8/site-packages (from langchain_community) (1.22.4)\n",
      "Requirement already satisfied: requests<3,>=2 in /Users/billyram/opt/anaconda3/lib/python3.8/site-packages (from langchain_community) (2.28.2)\n",
      "Requirement already satisfied: charset-normalizer<4.0,>=2.0 in /Users/billyram/opt/anaconda3/lib/python3.8/site-packages (from aiohttp<4.0.0,>=3.8.3->langchain_community) (3.1.0)\n",
      "Requirement already satisfied: aiosignal>=1.1.2 in /Users/billyram/opt/anaconda3/lib/python3.8/site-packages (from aiohttp<4.0.0,>=3.8.3->langchain_community) (1.3.1)\n",
      "Requirement already satisfied: frozenlist>=1.1.1 in /Users/billyram/opt/anaconda3/lib/python3.8/site-packages (from aiohttp<4.0.0,>=3.8.3->langchain_community) (1.3.3)\n",
      "Requirement already satisfied: yarl<2.0,>=1.0 in /Users/billyram/opt/anaconda3/lib/python3.8/site-packages (from aiohttp<4.0.0,>=3.8.3->langchain_community) (1.8.2)\n",
      "Requirement already satisfied: multidict<7.0,>=4.5 in /Users/billyram/opt/anaconda3/lib/python3.8/site-packages (from aiohttp<4.0.0,>=3.8.3->langchain_community) (6.0.4)\n",
      "Requirement already satisfied: async-timeout<5.0,>=4.0.0a3 in /Users/billyram/opt/anaconda3/lib/python3.8/site-packages (from aiohttp<4.0.0,>=3.8.3->langchain_community) (4.0.2)\n",
      "Requirement already satisfied: attrs>=17.3.0 in /Users/billyram/opt/anaconda3/lib/python3.8/site-packages (from aiohttp<4.0.0,>=3.8.3->langchain_community) (23.1.0)\n",
      "Requirement already satisfied: typing-inspect<1,>=0.4.0 in /Users/billyram/opt/anaconda3/lib/python3.8/site-packages (from dataclasses-json<0.7,>=0.5.7->langchain_community) (0.9.0)\n",
      "Requirement already satisfied: marshmallow<4.0.0,>=3.18.0 in /Users/billyram/opt/anaconda3/lib/python3.8/site-packages (from dataclasses-json<0.7,>=0.5.7->langchain_community) (3.20.1)\n",
      "Requirement already satisfied: langchain-text-splitters<0.3.0,>=0.2.0 in /Users/billyram/opt/anaconda3/lib/python3.8/site-packages (from langchain<0.3.0,>=0.2.0->langchain_community) (0.2.0)\n",
      "Requirement already satisfied: pydantic<3,>=1 in /Users/billyram/opt/anaconda3/lib/python3.8/site-packages (from langchain<0.3.0,>=0.2.0->langchain_community) (2.3.0)\n",
      "Requirement already satisfied: packaging<24.0,>=23.2 in /Users/billyram/opt/anaconda3/lib/python3.8/site-packages (from langchain-core<0.3.0,>=0.2.0->langchain_community) (23.2)\n",
      "Requirement already satisfied: jsonpatch<2.0,>=1.33 in /Users/billyram/opt/anaconda3/lib/python3.8/site-packages (from langchain-core<0.3.0,>=0.2.0->langchain_community) (1.33)\n",
      "Requirement already satisfied: jsonpointer>=1.9 in /Users/billyram/opt/anaconda3/lib/python3.8/site-packages (from jsonpatch<2.0,>=1.33->langchain-core<0.3.0,>=0.2.0->langchain_community) (2.4)\n",
      "Requirement already satisfied: orjson<4.0.0,>=3.9.14 in /Users/billyram/opt/anaconda3/lib/python3.8/site-packages (from langsmith<0.2.0,>=0.1.0->langchain_community) (3.10.3)\n",
      "Requirement already satisfied: typing-extensions>=4.6.1 in /Users/billyram/opt/anaconda3/lib/python3.8/site-packages (from pydantic<3,>=1->langchain<0.3.0,>=0.2.0->langchain_community) (4.7.1)\n",
      "Requirement already satisfied: pydantic-core==2.6.3 in /Users/billyram/opt/anaconda3/lib/python3.8/site-packages (from pydantic<3,>=1->langchain<0.3.0,>=0.2.0->langchain_community) (2.6.3)\n",
      "Requirement already satisfied: annotated-types>=0.4.0 in /Users/billyram/opt/anaconda3/lib/python3.8/site-packages (from pydantic<3,>=1->langchain<0.3.0,>=0.2.0->langchain_community) (0.5.0)\n",
      "Requirement already satisfied: urllib3<1.27,>=1.21.1 in /Users/billyram/opt/anaconda3/lib/python3.8/site-packages (from requests<3,>=2->langchain_community) (1.26.16)\n",
      "Requirement already satisfied: certifi>=2017.4.17 in /Users/billyram/opt/anaconda3/lib/python3.8/site-packages (from requests<3,>=2->langchain_community) (2022.12.7)\n",
      "Requirement already satisfied: idna<4,>=2.5 in /Users/billyram/opt/anaconda3/lib/python3.8/site-packages (from requests<3,>=2->langchain_community) (2.10)\n",
      "Requirement already satisfied: greenlet!=0.4.17 in /Users/billyram/opt/anaconda3/lib/python3.8/site-packages (from SQLAlchemy<3,>=1.4->langchain_community) (1.0.0)\n",
      "Requirement already satisfied: mypy-extensions>=0.3.0 in /Users/billyram/opt/anaconda3/lib/python3.8/site-packages (from typing-inspect<1,>=0.4.0->dataclasses-json<0.7,>=0.5.7->langchain_community) (0.4.3)\n",
      "Installing collected packages: langchain-community\n",
      "Successfully installed langchain-community-0.2.0\n",
      "Note: you may need to restart the kernel to use updated packages.\n"
     ]
    }
   ],
   "source": [
    "pip install langchain_community"
   ]
  },
  {
   "cell_type": "code",
   "execution_count": 11,
   "id": "20833e9c",
   "metadata": {},
   "outputs": [],
   "source": [
    "from langchain_community.chat_message_histories import ChatMessageHistory\n",
    "from langchain_core.chat_history import BaseChatMessageHistory\n",
    "from langchain_core.runnables.history import RunnableWithMessageHistory\n",
    "\n",
    "store = {}\n",
    "\n",
    "\n",
    "def get_session_history(session_id: str) -> BaseChatMessageHistory:\n",
    "    if session_id not in store:\n",
    "        store[session_id] = ChatMessageHistory()\n",
    "    return store[session_id]\n",
    "\n",
    "\n",
    "with_message_history = RunnableWithMessageHistory(model, get_session_history)"
   ]
  },
  {
   "cell_type": "code",
   "execution_count": 12,
   "id": "2dad27b1",
   "metadata": {},
   "outputs": [
    {
     "data": {
      "text/plain": [
       "'Hello Bob! How can I assist you today?'"
      ]
     },
     "execution_count": 12,
     "metadata": {},
     "output_type": "execute_result"
    }
   ],
   "source": [
    "config = {\"configurable\": {\"session_id\": \"abc2\"}} #use this same session ID to maintain the history in diff calls\n",
    "# Using a diff session ID would change the history that the bot uses, but can always go back to ones you've used\n",
    "response = with_message_history.invoke(\n",
    "    [HumanMessage(content=\"Hi! I'm Bob\")],\n",
    "    config=config,\n",
    ")\n",
    "\n",
    "response.content"
   ]
  },
  {
   "cell_type": "code",
   "execution_count": 13,
   "id": "3c98686f",
   "metadata": {},
   "outputs": [
    {
     "data": {
      "text/plain": [
       "'Your name is Bob.'"
      ]
     },
     "execution_count": 13,
     "metadata": {},
     "output_type": "execute_result"
    }
   ],
   "source": [
    "response = with_message_history.invoke(\n",
    "    [HumanMessage(content=\"What's my name?\")],\n",
    "    config=config,\n",
    ")\n",
    "\n",
    "response.content"
   ]
  },
  {
   "cell_type": "code",
   "execution_count": 14,
   "id": "d1796c96",
   "metadata": {},
   "outputs": [],
   "source": [
    "from langchain_core.prompts import ChatPromptTemplate, MessagesPlaceholder\n",
    "\n",
    "prompt = ChatPromptTemplate.from_messages(\n",
    "    [\n",
    "        (\n",
    "            \"system\",\n",
    "            \"You are a helpful assistant. Answer all questions to the best of your ability.\",\n",
    "        ),\n",
    "        MessagesPlaceholder(variable_name=\"messages\"),\n",
    "    ]\n",
    ")\n",
    "\n",
    "chain = prompt | model"
   ]
  },
  {
   "cell_type": "code",
   "execution_count": 15,
   "id": "8a27770f",
   "metadata": {},
   "outputs": [
    {
     "data": {
      "text/plain": [
       "'Hello, Bob! How can I assist you today?'"
      ]
     },
     "execution_count": 15,
     "metadata": {},
     "output_type": "execute_result"
    }
   ],
   "source": [
    "response = chain.invoke({\"messages\": [HumanMessage(content=\"hi! I'm bob\")]})\n",
    "\n",
    "response.content"
   ]
  },
  {
   "cell_type": "code",
   "execution_count": 16,
   "id": "91eed75e",
   "metadata": {},
   "outputs": [
    {
     "data": {
      "text/plain": [
       "'The first letter of your name is \"B\".'"
      ]
     },
     "execution_count": 16,
     "metadata": {},
     "output_type": "execute_result"
    }
   ],
   "source": [
    "with_message_history = RunnableWithMessageHistory(chain, get_session_history)\n",
    "\n",
    "response = with_message_history.invoke(\n",
    "    [HumanMessage(content=\"What's the first letter of my name?\")],\n",
    "    config=config,\n",
    ")\n",
    "\n",
    "response.content"
   ]
  },
  {
   "cell_type": "code",
   "execution_count": 17,
   "id": "4efa9885",
   "metadata": {},
   "outputs": [],
   "source": [
    "prompt = ChatPromptTemplate.from_messages(\n",
    "    [\n",
    "        (\n",
    "            \"system\",\n",
    "            \"You are a helpful assistant. Answer all questions to the best of your ability in {language}.\",\n",
    "        ),\n",
    "        MessagesPlaceholder(variable_name=\"messages\"),\n",
    "    ]\n",
    ")\n",
    "\n",
    "chain = prompt | model"
   ]
  },
  {
   "cell_type": "code",
   "execution_count": 18,
   "id": "fd7ad3c7",
   "metadata": {},
   "outputs": [
    {
     "data": {
      "text/plain": [
       "'¡Hola, Bob! ¿En qué puedo ayudarte hoy?'"
      ]
     },
     "execution_count": 18,
     "metadata": {},
     "output_type": "execute_result"
    }
   ],
   "source": [
    "response = chain.invoke(\n",
    "    {\"messages\": [HumanMessage(content=\"hi! I'm bob\")], \"language\": \"Spanish\"}\n",
    ")\n",
    "\n",
    "response.content"
   ]
  },
  {
   "cell_type": "code",
   "execution_count": 20,
   "id": "b7c60f89",
   "metadata": {},
   "outputs": [
    {
     "data": {
      "text/plain": [
       "'Lo siento, no tengo la capacidad de saber tu nombre. ¿En qué más te puedo ayudar?'"
      ]
     },
     "execution_count": 20,
     "metadata": {},
     "output_type": "execute_result"
    }
   ],
   "source": [
    "# Have to specify which key to use to save the chat history because there are multiple now\n",
    "with_message_history = RunnableWithMessageHistory(\n",
    "    chain,\n",
    "    get_session_history,\n",
    "    input_messages_key=\"messages\",\n",
    ")\n",
    "\n",
    "config = {\"configurable\": {\"session_id\": \"abc11\"}}\n",
    "\n",
    "response = with_message_history.invoke(\n",
    "    {\"messages\": [HumanMessage(content=\"What's my name?\")], \"language\": \"Spanish\"},\n",
    "    config=config,\n",
    ")\n",
    "\n",
    "response.content"
   ]
  },
  {
   "cell_type": "code",
   "execution_count": 21,
   "id": "6ad599a5",
   "metadata": {},
   "outputs": [],
   "source": [
    "# Have to manage convo history when doing this because otherwise it can overflow context window of LLM - do this\n",
    "# by limiting size of meessages you pass\n",
    "# NEED TO DO THIS BEFORE PROMPT TEMPLATE BUT AFTER LOAD PREVIOUS MESSAGES FROM MESSAGE HISTORY\n",
    "\n",
    "from langchain_core.runnables import RunnablePassthrough\n",
    "\n",
    "\n",
    "def filter_messages(messages, k=10):\n",
    "    return messages[-k:]\n",
    "\n",
    "\n",
    "chain = (\n",
    "    RunnablePassthrough.assign(messages=lambda x: filter_messages(x[\"messages\"]))\n",
    "    | prompt\n",
    "    | model\n",
    ")"
   ]
  },
  {
   "cell_type": "code",
   "execution_count": 23,
   "id": "0964ae4e",
   "metadata": {},
   "outputs": [
    {
     "data": {
      "text/plain": [
       "\"I'm sorry, I don't have access to that information. How can I assist you today?\""
      ]
     },
     "execution_count": 23,
     "metadata": {},
     "output_type": "execute_result"
    }
   ],
   "source": [
    "from langchain_core.messages import AIMessage\n",
    "\n",
    "# Now can see that if we do more than 10 messages, it won't remember the earlier ones\n",
    "messages = [\n",
    "    HumanMessage(content=\"hi! I'm bob\"),\n",
    "    AIMessage(content=\"hi!\"),\n",
    "    HumanMessage(content=\"I like vanilla ice cream\"),\n",
    "    AIMessage(content=\"nice\"),\n",
    "    HumanMessage(content=\"whats 2 + 2\"),\n",
    "    AIMessage(content=\"4\"),\n",
    "    HumanMessage(content=\"thanks\"),\n",
    "    AIMessage(content=\"no problem!\"),\n",
    "    HumanMessage(content=\"having fun?\"),\n",
    "    AIMessage(content=\"yes!\"),\n",
    "]\n",
    "\n",
    "response = chain.invoke(\n",
    "    {\n",
    "        \"messages\": messages + [HumanMessage(content=\"what's my name?\")],\n",
    "        \"language\": \"English\",\n",
    "    }\n",
    ")\n",
    "response.content"
   ]
  },
  {
   "cell_type": "code",
   "execution_count": 26,
   "id": "3ffd2375",
   "metadata": {},
   "outputs": [
    {
     "name": "stdout",
     "output_type": "stream",
     "text": [
      "Hi Todd! Here's another joke for you:\n",
      "\n",
      "What do you call an alligator in a vest?\n",
      "\n",
      "An investigator! 😄"
     ]
    }
   ],
   "source": [
    "# Can easily add streaming (returning words of response individually as they are generated) - very crucial for UX\n",
    "\n",
    "config = {\"configurable\": {\"session_id\": \"abc15\"}}\n",
    "for r in with_message_history.stream(\n",
    "    {\n",
    "        \"messages\": [HumanMessage(content=\"hi! I'm todd. tell me a joke\")],\n",
    "        \"language\": \"English\",\n",
    "    },\n",
    "    config=config,\n",
    "):\n",
    "    print(r.content, end=\"\")"
   ]
  },
  {
   "cell_type": "code",
   "execution_count": null,
   "id": "afbfa0fc",
   "metadata": {},
   "outputs": [],
   "source": []
  }
 ],
 "metadata": {
  "kernelspec": {
   "display_name": "Python 3",
   "language": "python",
   "name": "python3"
  },
  "language_info": {
   "codemirror_mode": {
    "name": "ipython",
    "version": 3
   },
   "file_extension": ".py",
   "mimetype": "text/x-python",
   "name": "python",
   "nbconvert_exporter": "python",
   "pygments_lexer": "ipython3",
   "version": "3.8.8"
  }
 },
 "nbformat": 4,
 "nbformat_minor": 5
}
